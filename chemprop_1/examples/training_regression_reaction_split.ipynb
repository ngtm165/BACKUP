{
 "cells": [
  {
   "cell_type": "markdown",
   "metadata": {},
   "source": [
    "# Training Regression - Reaction"
   ]
  },
  {
   "cell_type": "markdown",
   "metadata": {},
   "source": [
    "# Import packages"
   ]
  },
  {
   "cell_type": "code",
   "execution_count": 365,
   "metadata": {},
   "outputs": [
    {
     "name": "stdout",
     "output_type": "stream",
     "text": [
      "/home/labhhc2/Documents/workspace/D20/Tam/backup/chemprop_1/examples\n",
      "/home/labhhc2/Documents/workspace/D20/Tam/backup/chemprop_1\n"
     ]
    }
   ],
   "source": [
    "import os\n",
    "import sys\n",
    "\n",
    "current_path=os.getcwd()\n",
    "print(current_path)\n",
    "\n",
    "parent_path=os.path.dirname(current_path)\n",
    "print(parent_path)\n",
    "\n",
    "if parent_path not in sys.path:\n",
    "    sys.path.append(parent_path)"
   ]
  },
  {
   "cell_type": "code",
   "execution_count": 366,
   "metadata": {},
   "outputs": [],
   "source": [
    "import pandas as pd\n",
    "from lightning import pytorch as pl\n",
    "from pathlib import Path\n",
    "\n",
    "from chemprop import data, featurizers, models, nn"
   ]
  },
  {
   "cell_type": "markdown",
   "metadata": {},
   "source": [
    "# Change data inputs here"
   ]
  },
  {
   "cell_type": "markdown",
   "metadata": {},
   "source": [
    "## Load data"
   ]
  },
  {
   "cell_type": "code",
   "execution_count": 367,
   "metadata": {},
   "outputs": [],
   "source": [
    "import numpy as np\n",
    "chemprop_dir = Path.cwd().parent\n",
    "num_workers = 0  # number of workers for dataloader. 0 means using main process for data loading\n",
    "# smiles_column = 'AAM'\n",
    "# target_columns = ['lograte']"
   ]
  },
  {
   "cell_type": "code",
   "execution_count": 368,
   "metadata": {},
   "outputs": [],
   "source": [
    "train_path = chemprop_dir / \"tests\" / \"data\" / \"regression\" / \"rxn\" / \"e2sn2\" / \"fold_4\" / \"aam_train.csv\"\n",
    "train_npz = np.load(f'../chemprop/data/super/e2sn2/fold_4/e2sn2_aam_train_processed_data.npz', allow_pickle=True)\n",
    "train_v = train_npz['node_attrs']\n",
    "train_e = train_npz['edge_attrs']\n",
    "train_idx_g = train_npz['edge_indices']\n",
    "train_y = train_npz['ys'] \n",
    "\n",
    "val_path = chemprop_dir / \"tests\" / \"data\" / \"regression\" / \"rxn\" / \"e2sn2\" / \"fold_4\" / \"aam_val.csv\"\n",
    "val_npz = np.load(f'../chemprop/data/super/e2sn2/fold_4/e2sn2_aam_val_processed_data.npz', allow_pickle=True)\n",
    "val_v = val_npz['node_attrs']\n",
    "val_e = val_npz['edge_attrs']\n",
    "val_idx_g = val_npz['edge_indices']\n",
    "val_y = val_npz['ys'] \n",
    "\n",
    "test_path = chemprop_dir / \"tests\" / \"data\" / \"regression\" / \"rxn\" / \"e2sn2\" / \"fold_4\" / \"aam_test.csv\"\n",
    "test_npz = np.load(f'../chemprop/data/super/e2sn2/fold_4/e2sn2_aam_test_processed_data.npz', allow_pickle=True)\n",
    "test_v = test_npz['node_attrs']\n",
    "test_e = test_npz['edge_attrs']\n",
    "test_idx_g = test_npz['edge_indices']\n",
    "test_y = test_npz['ys'] "
   ]
  },
  {
   "cell_type": "code",
   "execution_count": 369,
   "metadata": {},
   "outputs": [
    {
     "name": "stdout",
     "output_type": "stream",
     "text": [
      "(2900,) (362,) (363,)\n"
     ]
    }
   ],
   "source": [
    "print(train_idx_g.shape, val_y.shape, test_y.shape)"
   ]
  },
  {
   "cell_type": "markdown",
   "metadata": {},
   "source": [
    "## Perform data splitting for training, validation, and testing"
   ]
  },
  {
   "cell_type": "markdown",
   "metadata": {},
   "source": [
    "## Get ReactionDatasets"
   ]
  },
  {
   "cell_type": "code",
   "execution_count": 370,
   "metadata": {},
   "outputs": [
    {
     "name": "stdout",
     "output_type": "stream",
     "text": [
      "[3.30673504]\n",
      "[[ 3.30673504]\n",
      " [ 9.73300934]\n",
      " [17.01290131]\n",
      " ...\n",
      " [39.26520157]\n",
      " [11.44155598]\n",
      " [23.69203377]]\n",
      "[[-1.394209  ]\n",
      " [-0.90810474]\n",
      " [-0.35743007]\n",
      " ...\n",
      " [ 1.32580619]\n",
      " [-0.77886473]\n",
      " [ 0.1478012 ]]\n",
      "[-1.394209]\n",
      "[[-0.85748876]\n",
      " [-0.34439181]\n",
      " [ 1.24632457]\n",
      " [ 0.53286892]\n",
      " [-0.51840217]\n",
      " [-0.39448976]\n",
      " [-0.83812708]\n",
      " [ 0.83625463]\n",
      " [-1.4263051 ]\n",
      " [ 2.42103007]\n",
      " [ 0.44325854]\n",
      " [ 1.3903106 ]\n",
      " [ 2.52036926]\n",
      " [-1.26081879]\n",
      " [ 0.61788447]\n",
      " [ 0.0288376 ]\n",
      " [ 0.10520787]\n",
      " [ 0.6120324 ]\n",
      " [-0.23038214]\n",
      " [ 0.54772696]\n",
      " [-0.53638931]\n",
      " [-1.54342827]\n",
      " [ 0.03943007]\n",
      " [-0.31003921]\n",
      " [ 0.42098418]\n",
      " [ 0.24147964]\n",
      " [ 0.65841318]\n",
      " [-0.99489239]\n",
      " [-1.2678341 ]\n",
      " [-0.23471351]\n",
      " [-0.69976746]\n",
      " [ 1.07934063]\n",
      " [ 0.18672785]\n",
      " [-0.82491662]\n",
      " [-0.0245157 ]\n",
      " [-0.76853745]\n",
      " [-0.92361557]\n",
      " [-0.20141371]\n",
      " [-0.12472675]\n",
      " [-1.29476136]\n",
      " [-0.18467183]\n",
      " [ 1.00969155]\n",
      " [-0.22431063]\n",
      " [ 0.54798752]\n",
      " [ 0.06268379]\n",
      " [-0.56125203]\n",
      " [-0.88680649]\n",
      " [-0.1855388 ]\n",
      " [-0.20739649]\n",
      " [-0.49563019]\n",
      " [-1.57264587]\n",
      " [ 0.03657827]\n",
      " [ 0.45145801]\n",
      " [ 0.86697546]\n",
      " [ 1.44751511]\n",
      " [-0.0153917 ]\n",
      " [-1.491275  ]\n",
      " [ 0.17454386]\n",
      " [ 0.49964313]\n",
      " [-0.16984856]\n",
      " [ 0.20169439]\n",
      " [ 0.23001747]\n",
      " [-0.73810452]\n",
      " [ 0.15881986]\n",
      " [-1.63070535]\n",
      " [ 0.63653991]\n",
      " [ 2.44545548]\n",
      " [ 0.81648738]\n",
      " [-0.64335807]\n",
      " [ 0.38136297]\n",
      " [-0.71154603]\n",
      " [ 0.72202306]\n",
      " [-1.224209  ]\n",
      " [-0.52522789]\n",
      " [-0.48699594]\n",
      " [-0.94917501]\n",
      " [ 0.67818504]\n",
      " [ 1.13664267]\n",
      " [-1.41010947]\n",
      " [ 2.30571036]\n",
      " [-1.34341316]\n",
      " [-0.07586079]\n",
      " [-1.21188383]\n",
      " [-1.26956121]\n",
      " [-0.06495827]\n",
      " [ 1.21119085]\n",
      " [-1.0767516 ]\n",
      " [-0.14315207]\n",
      " [-0.7927349 ]\n",
      " [-0.37906673]\n",
      " [ 0.12554848]\n",
      " [ 1.03510382]\n",
      " [-1.42772234]\n",
      " [-0.80037471]\n",
      " [ 1.46873062]\n",
      " [ 1.68407599]\n",
      " [-0.95667818]\n",
      " [-0.39293243]\n",
      " [ 0.70253427]\n",
      " [-1.07160055]\n",
      " [ 0.03569485]\n",
      " [-0.88981137]\n",
      " [-0.91536143]\n",
      " [ 0.55691574]\n",
      " [ 0.0813336 ]\n",
      " [ 0.45529754]\n",
      " [ 0.13665226]\n",
      " [-0.69842698]\n",
      " [ 2.26871343]\n",
      " [-1.48924389]\n",
      " [-0.18995803]\n",
      " [ 0.06996709]\n",
      " [ 1.6721543 ]\n",
      " [-0.76199415]\n",
      " [ 0.53916579]\n",
      " [ 1.75018823]\n",
      " [ 0.55913488]\n",
      " [ 0.64331116]\n",
      " [ 0.28283882]\n",
      " [-0.50588655]\n",
      " [ 1.48827395]\n",
      " [-0.41719711]\n",
      " [ 1.42050309]\n",
      " [ 1.3714373 ]\n",
      " [ 0.94234891]\n",
      " [-0.57203883]\n",
      " [-0.93086994]\n",
      " [-1.2429162 ]\n",
      " [ 0.48125013]\n",
      " [ 0.34501616]\n",
      " [ 1.84879939]\n",
      " [ 0.10484775]\n",
      " [-1.64050825]\n",
      " [-0.16799531]\n",
      " [-0.1384991 ]\n",
      " [ 0.08468316]\n",
      " [ 2.04423959]\n",
      " [-0.34248835]\n",
      " [-0.92340493]\n",
      " [-1.2831337 ]\n",
      " [ 0.13436718]\n",
      " [ 0.1505937 ]\n",
      " [-0.50554101]\n",
      " [ 0.71443115]\n",
      " [-0.037935  ]\n",
      " [ 2.21191261]\n",
      " [ 0.11370397]\n",
      " [-0.47892019]\n",
      " [-0.59164788]\n",
      " [ 0.66663761]\n",
      " [-1.58474394]\n",
      " [-1.08514801]\n",
      " [ 0.37233651]\n",
      " [ 0.57889361]\n",
      " [-0.54521971]\n",
      " [-1.24877021]\n",
      " [-0.6533455 ]\n",
      " [-1.40524445]\n",
      " [-1.54373205]\n",
      " [ 0.44670347]\n",
      " [-0.821488  ]\n",
      " [-0.30165463]\n",
      " [ 1.42474227]\n",
      " [-0.33429336]\n",
      " [ 0.6822433 ]\n",
      " [ 0.92382303]\n",
      " [ 2.16487998]\n",
      " [-0.34483128]\n",
      " [-1.28089512]\n",
      " [-1.33398735]\n",
      " [ 0.39768501]\n",
      " [-0.01256644]\n",
      " [-0.91543869]\n",
      " [-0.44803741]\n",
      " [-0.59420932]\n",
      " [ 0.92901675]\n",
      " [-0.25927786]\n",
      " [-0.40150947]\n",
      " [ 0.7706879 ]\n",
      " [-0.96561794]\n",
      " [-0.08004283]\n",
      " [-1.35298363]\n",
      " [ 0.46724939]\n",
      " [ 1.31048185]\n",
      " [-0.8650819 ]\n",
      " [-1.15463639]\n",
      " [ 0.78576943]\n",
      " [ 0.28091126]\n",
      " [ 0.88467116]\n",
      " [-1.5448715 ]\n",
      " [ 0.36171793]\n",
      " [-1.26790425]\n",
      " [ 0.03853525]\n",
      " [ 2.19384438]\n",
      " [-0.50235217]\n",
      " [ 0.11265868]\n",
      " [-0.04743123]\n",
      " [-0.69847589]\n",
      " [-0.94584124]\n",
      " [ 1.07565375]\n",
      " [-1.07486207]\n",
      " [-0.00481049]\n",
      " [ 0.59324553]\n",
      " [-1.03125327]\n",
      " [ 0.25343711]\n",
      " [ 1.59272346]\n",
      " [ 0.96544552]\n",
      " [-1.20092129]\n",
      " [-0.44747328]\n",
      " [-0.61970397]\n",
      " [-1.10118758]\n",
      " [-0.69559963]\n",
      " [-0.4438379 ]\n",
      " [-1.20155514]\n",
      " [-0.21070579]\n",
      " [-0.81150453]\n",
      " [ 1.05522599]\n",
      " [ 1.51502858]\n",
      " [-0.59103332]\n",
      " [-0.89310964]\n",
      " [ 0.81953713]\n",
      " [-1.05426017]\n",
      " [ 2.36553035]\n",
      " [ 2.02073439]\n",
      " [-1.53405252]\n",
      " [ 0.123179  ]\n",
      " [-0.55588279]\n",
      " [-0.7864236 ]\n",
      " [ 1.05159423]\n",
      " [-0.21952277]\n",
      " [ 1.13784711]\n",
      " [ 0.45850239]\n",
      " [-1.18691871]\n",
      " [-0.55413126]\n",
      " [-1.23786877]\n",
      " [ 0.44322175]\n",
      " [-0.61477363]\n",
      " [ 1.39667067]\n",
      " [-1.24001567]\n",
      " [-0.17100697]\n",
      " [ 0.24273789]\n",
      " [-1.27647073]\n",
      " [-0.07702973]\n",
      " [ 0.37958547]\n",
      " [ 0.88122552]\n",
      " [-0.93247973]\n",
      " [-1.44609981]\n",
      " [ 0.17939016]\n",
      " [-0.3864063 ]\n",
      " [ 1.01105642]\n",
      " [ 1.95038903]\n",
      " [-0.52371499]\n",
      " [-0.46931611]\n",
      " [-1.12321473]\n",
      " [-0.364966  ]\n",
      " [-0.19945355]\n",
      " [-0.98039115]\n",
      " [ 2.42069823]\n",
      " [ 1.16096506]\n",
      " [ 2.16446937]\n",
      " [ 0.37626101]\n",
      " [-0.48243538]\n",
      " [ 0.77739986]\n",
      " [-1.42587019]\n",
      " [ 0.29702106]\n",
      " [ 0.62084274]\n",
      " [-0.9735761 ]\n",
      " [ 1.62952447]\n",
      " [-1.10560014]\n",
      " [ 0.21532939]\n",
      " [ 0.20812371]\n",
      " [-1.18408376]\n",
      " [-0.10568436]\n",
      " [ 1.46088074]\n",
      " [ 2.63275406]\n",
      " [ 1.72579919]\n",
      " [-1.47535386]\n",
      " [ 1.17789465]\n",
      " [-0.01585425]\n",
      " [-0.71345628]\n",
      " [ 0.85669681]\n",
      " [ 0.59548934]\n",
      " [-1.62031401]\n",
      " [ 0.55023523]\n",
      " [-0.402303  ]\n",
      " [ 1.42462656]\n",
      " [ 0.12256957]\n",
      " [-0.65549416]\n",
      " [-0.13577888]\n",
      " [ 1.98239336]\n",
      " [ 0.25977078]\n",
      " [ 0.59791393]\n",
      " [ 0.5019269 ]\n",
      " [ 0.9091892 ]\n",
      " [-0.24533512]\n",
      " [-0.36454572]\n",
      " [ 0.39469802]\n",
      " [-0.85034995]\n",
      " [ 0.96730699]\n",
      " [ 1.80101566]\n",
      " [-1.04709716]\n",
      " [-0.44722296]\n",
      " [ 1.84154682]\n",
      " [-1.09007951]\n",
      " [-1.01596939]\n",
      " [-1.30903136]\n",
      " [-1.04549492]\n",
      " [-1.05335966]\n",
      " [-0.02845535]\n",
      " [-0.30808972]\n",
      " [-0.33258279]\n",
      " [ 0.67656105]\n",
      " [ 1.00722238]\n",
      " [ 0.20711419]\n",
      " [-0.35060428]\n",
      " [ 0.26027835]\n",
      " [ 1.41856284]\n",
      " [-0.46429624]\n",
      " [ 1.00531676]\n",
      " [-1.42105433]\n",
      " [ 0.96329289]\n",
      " [-0.23658437]\n",
      " [-0.90872189]\n",
      " [ 2.88269644]\n",
      " [-0.86182345]\n",
      " [-0.15453921]\n",
      " [ 0.09518963]\n",
      " [ 1.31899165]\n",
      " [-0.9414153 ]\n",
      " [-0.81911102]\n",
      " [-1.02812734]\n",
      " [-1.4562031 ]\n",
      " [ 0.784928  ]\n",
      " [-1.1288916 ]\n",
      " [-0.90791307]\n",
      " [ 1.35056892]\n",
      " [-0.78525466]\n",
      " [-0.69374075]\n",
      " [ 0.45730473]\n",
      " [ 0.20085686]\n",
      " [ 0.23482828]\n",
      " [-0.38864809]\n",
      " [-0.85084389]\n",
      " [ 1.28578231]\n",
      " [-1.05104252]\n",
      " [-1.03605369]\n",
      " [ 0.0961677 ]\n",
      " [-0.73770119]\n",
      " [-0.65254389]\n",
      " [-0.05027986]\n",
      " [-1.09432038]\n",
      " [-1.29184528]\n",
      " [ 2.4419954 ]\n",
      " [-1.57011406]\n",
      " [ 0.06907949]\n",
      " [-0.47761094]\n",
      " [-0.75679387]\n",
      " [-0.3690459 ]\n",
      " [ 1.13474051]\n",
      " [-0.56372113]\n",
      " [-1.11920509]\n",
      " [-1.23003357]]\n"
     ]
    }
   ],
   "source": [
    "train_dset = data.ReactionDataset(train_v, train_e, train_idx_g, train_y)\n",
    "print(train_dset[0][3])\n",
    "scaler = train_dset.normalize_targets()\n",
    "# print(scaler)\n",
    "print(train_dset[0][3])\n",
    "\n",
    "val_dset = data.ReactionDataset(val_v, val_e, val_idx_g, val_y)\n",
    "val_dset.normalize_targets(scaler)\n",
    "test_dset = data.ReactionDataset(test_v, test_e, test_idx_g, test_y)"
   ]
  },
  {
   "cell_type": "code",
   "execution_count": 371,
   "metadata": {},
   "outputs": [
    {
     "data": {
      "text/plain": [
       "array([-1.394209])"
      ]
     },
     "execution_count": 371,
     "metadata": {},
     "output_type": "execute_result"
    }
   ],
   "source": [
    "train_dset[0][3]"
   ]
  },
  {
   "cell_type": "code",
   "execution_count": 372,
   "metadata": {},
   "outputs": [
    {
     "name": "stdout",
     "output_type": "stream",
     "text": [
      "edge_index: [[ 0  1  1  2  1 10  1 11  1 13  2  3  2  4  2  6  4  5  6  7  6  8  6  9\n",
      "  11 12 14 15 15 16 17 14 17 15 17 16]\n",
      " [ 1  0  2  1 10  1 11  1 13  1  3  2  4  2  6  2  5  4  7  6  8  6  9  6\n",
      "  12 11 15 14 16 15 14 17 15 17 16 17]]\n",
      "reverse_index: [ 1  0  3  2  5  4  7  6  9  8 11 10 13 12 15 14 17 16 19 18 21 20 23 22\n",
      " 25 24 27 26 29 28 31 30 33 32 35 34]\n"
     ]
    }
   ],
   "source": [
    "edge_index=train_dset[1][0][-2]\n",
    "print(f'edge_index: {edge_index}')\n",
    "reverse_index=train_dset[1][0][-1]\n",
    "print(f'reverse_index: {reverse_index}')"
   ]
  },
  {
   "cell_type": "code",
   "execution_count": 373,
   "metadata": {},
   "outputs": [
    {
     "data": {
      "text/plain": [
       "array([1, 0, 3, 2, 5, 4])"
      ]
     },
     "execution_count": 373,
     "metadata": {},
     "output_type": "execute_result"
    }
   ],
   "source": [
    "import numpy as np\n",
    "\n",
    "np.arange(6).reshape(-1,2)[:, ::-1].ravel()"
   ]
  },
  {
   "cell_type": "markdown",
   "metadata": {},
   "source": [
    "## Get dataloaders"
   ]
  },
  {
   "cell_type": "code",
   "execution_count": 374,
   "metadata": {},
   "outputs": [],
   "source": [
    "train_loader = data.build_dataloader(train_dset, num_workers=num_workers)\n",
    "val_loader = data.build_dataloader(val_dset, num_workers=num_workers, shuffle=False)\n",
    "test_loader = data.build_dataloader(test_dset, num_workers=num_workers, shuffle=False)"
   ]
  },
  {
   "cell_type": "markdown",
   "metadata": {},
   "source": [
    "# Change Message-Passing Neural Network (MPNN) inputs here"
   ]
  },
  {
   "cell_type": "markdown",
   "metadata": {},
   "source": [
    "## Message passing\n",
    "\n",
    "Message passing blocks must be given the shape of the featurizer's outputs.\n",
    "\n",
    "Options are `mp = nn.BondMessagePassing()` or `mp = nn.AtomMessagePassing()`"
   ]
  },
  {
   "cell_type": "code",
   "execution_count": 375,
   "metadata": {},
   "outputs": [
    {
     "data": {
      "text/plain": [
       "21"
      ]
     },
     "execution_count": 375,
     "metadata": {},
     "output_type": "execute_result"
    }
   ],
   "source": [
    "train_v[0].shape[1]"
   ]
  },
  {
   "cell_type": "code",
   "execution_count": 376,
   "metadata": {},
   "outputs": [],
   "source": [
    "fdims = (train_v[0].shape[1],train_e[0].shape[1]) # the dimensions of the featurizer, given as (atom_dims, bond_dims).\n",
    "mp = nn.BondMessagePassing(*fdims)"
   ]
  },
  {
   "cell_type": "code",
   "execution_count": 377,
   "metadata": {},
   "outputs": [
    {
     "name": "stdout",
     "output_type": "stream",
     "text": [
      "21 6\n"
     ]
    }
   ],
   "source": [
    "print(*fdims)"
   ]
  },
  {
   "cell_type": "markdown",
   "metadata": {},
   "source": [
    "## Aggregation"
   ]
  },
  {
   "cell_type": "code",
   "execution_count": 378,
   "metadata": {},
   "outputs": [
    {
     "name": "stdout",
     "output_type": "stream",
     "text": [
      "ClassRegistry {\n",
      "    'mean': <class 'chemprop.nn.agg.MeanAggregation'>,\n",
      "    'sum': <class 'chemprop.nn.agg.SumAggregation'>,\n",
      "    'norm': <class 'chemprop.nn.agg.NormAggregation'>\n",
      "}\n"
     ]
    }
   ],
   "source": [
    "print(nn.agg.AggregationRegistry)"
   ]
  },
  {
   "cell_type": "code",
   "execution_count": 379,
   "metadata": {},
   "outputs": [],
   "source": [
    "# agg = nn.MeanAggregation()  #try Mean or Sum\n",
    "agg = nn.SumAggregation()  #try Mean or Sum"
   ]
  },
  {
   "cell_type": "markdown",
   "metadata": {},
   "source": [
    "## Feed-Forward Network (FFN)"
   ]
  },
  {
   "cell_type": "code",
   "execution_count": 380,
   "metadata": {},
   "outputs": [
    {
     "name": "stdout",
     "output_type": "stream",
     "text": [
      "ClassRegistry {\n",
      "    'regression': <class 'chemprop.nn.predictors.RegressionFFN'>,\n",
      "    'regression-mve': <class 'chemprop.nn.predictors.MveFFN'>,\n",
      "    'regression-evidential': <class 'chemprop.nn.predictors.EvidentialFFN'>,\n",
      "    'regression-quantile': <class 'chemprop.nn.predictors.QuantileFFN'>,\n",
      "    'classification': <class 'chemprop.nn.predictors.BinaryClassificationFFN'>,\n",
      "    'classification-dirichlet': <class 'chemprop.nn.predictors.BinaryDirichletFFN'>,\n",
      "    'multiclass': <class 'chemprop.nn.predictors.MulticlassClassificationFFN'>,\n",
      "    'multiclass-dirichlet': <class 'chemprop.nn.predictors.MulticlassDirichletFFN'>,\n",
      "    'spectral': <class 'chemprop.nn.predictors.SpectralFFN'>\n",
      "}\n"
     ]
    }
   ],
   "source": [
    "print(nn.PredictorRegistry)"
   ]
  },
  {
   "cell_type": "code",
   "execution_count": 381,
   "metadata": {},
   "outputs": [],
   "source": [
    "output_transform = nn.UnscaleTransform.from_standard_scaler(scaler)"
   ]
  },
  {
   "cell_type": "code",
   "execution_count": 382,
   "metadata": {},
   "outputs": [],
   "source": [
    "ffn = nn.RegressionFFN(output_transform=output_transform)"
   ]
  },
  {
   "cell_type": "markdown",
   "metadata": {},
   "source": [
    "## Batch norm"
   ]
  },
  {
   "cell_type": "code",
   "execution_count": 383,
   "metadata": {},
   "outputs": [],
   "source": [
    "batch_norm = True"
   ]
  },
  {
   "cell_type": "markdown",
   "metadata": {},
   "source": [
    "## Metrics"
   ]
  },
  {
   "cell_type": "code",
   "execution_count": 384,
   "metadata": {},
   "outputs": [
    {
     "name": "stdout",
     "output_type": "stream",
     "text": [
      "ClassRegistry {\n",
      "    'mse': <class 'chemprop.nn.metrics.MSE'>,\n",
      "    'mae': <class 'chemprop.nn.metrics.MAE'>,\n",
      "    'rmse': <class 'chemprop.nn.metrics.RMSE'>,\n",
      "    'bounded-mse': <class 'chemprop.nn.metrics.BoundedMSE'>,\n",
      "    'bounded-mae': <class 'chemprop.nn.metrics.BoundedMAE'>,\n",
      "    'bounded-rmse': <class 'chemprop.nn.metrics.BoundedRMSE'>,\n",
      "    'r2': <class 'chemprop.nn.metrics.R2Score'>,\n",
      "    'binary-mcc': <class 'chemprop.nn.metrics.BinaryMCCMetric'>,\n",
      "    'multiclass-mcc': <class 'chemprop.nn.metrics.MulticlassMCCMetric'>,\n",
      "    'roc': <class 'chemprop.nn.metrics.BinaryAUROC'>,\n",
      "    'prc': <class 'chemprop.nn.metrics.BinaryAUPRC'>,\n",
      "    'accuracy': <class 'chemprop.nn.metrics.BinaryAccuracy'>,\n",
      "    'f1': <class 'chemprop.nn.metrics.BinaryF1Score'>\n",
      "}\n"
     ]
    }
   ],
   "source": [
    "print(nn.metrics.MetricRegistry)"
   ]
  },
  {
   "cell_type": "code",
   "execution_count": 385,
   "metadata": {},
   "outputs": [],
   "source": [
    "metric_list = [nn.metrics.RMSE(), nn.metrics.MAE()] \n",
    "# Only the first metric is used for training and early stopping"
   ]
  },
  {
   "cell_type": "markdown",
   "metadata": {},
   "source": [
    "## Construct MPNN"
   ]
  },
  {
   "cell_type": "code",
   "execution_count": 386,
   "metadata": {},
   "outputs": [
    {
     "data": {
      "text/plain": [
       "MPNN(\n",
       "  (message_passing): BondMessagePassing(\n",
       "    (W_i): Linear(in_features=27, out_features=300, bias=False)\n",
       "    (W_h): Linear(in_features=300, out_features=300, bias=False)\n",
       "    (W_o): Linear(in_features=321, out_features=300, bias=True)\n",
       "    (dropout): Dropout(p=0.0, inplace=False)\n",
       "    (tau): ReLU()\n",
       "    (V_d_transform): Identity()\n",
       "    (graph_transform): Identity()\n",
       "  )\n",
       "  (agg): SumAggregation()\n",
       "  (bn): BatchNorm1d(300, eps=1e-05, momentum=0.1, affine=True, track_running_stats=True)\n",
       "  (predictor): RegressionFFN(\n",
       "    (ffn): MLP(\n",
       "      (0): Sequential(\n",
       "        (0): Linear(in_features=300, out_features=300, bias=True)\n",
       "      )\n",
       "      (1): Sequential(\n",
       "        (0): ReLU()\n",
       "        (1): Dropout(p=0.0, inplace=False)\n",
       "        (2): Linear(in_features=300, out_features=1, bias=True)\n",
       "      )\n",
       "    )\n",
       "    (criterion): MSE(task_weights=[[1.0]])\n",
       "    (output_transform): UnscaleTransform()\n",
       "  )\n",
       "  (X_d_transform): Identity()\n",
       "  (metrics): ModuleList(\n",
       "    (0): RMSE(task_weights=[[1.0]])\n",
       "    (1): MAE(task_weights=[[1.0]])\n",
       "    (2): MSE(task_weights=[[1.0]])\n",
       "  )\n",
       ")"
      ]
     },
     "execution_count": 386,
     "metadata": {},
     "output_type": "execute_result"
    }
   ],
   "source": [
    "mpnn = models.MPNN(mp, agg, ffn, batch_norm, metric_list)\n",
    "mpnn"
   ]
  },
  {
   "cell_type": "markdown",
   "metadata": {},
   "source": [
    "# Training and testing"
   ]
  },
  {
   "cell_type": "markdown",
   "metadata": {},
   "source": [
    "## Set up trainer"
   ]
  },
  {
   "cell_type": "code",
   "execution_count": 387,
   "metadata": {},
   "outputs": [
    {
     "name": "stderr",
     "output_type": "stream",
     "text": [
      "GPU available: True (cuda), used: True\n",
      "TPU available: False, using: 0 TPU cores\n",
      "HPU available: False, using: 0 HPUs\n"
     ]
    }
   ],
   "source": [
    "trainer = pl.Trainer(\n",
    "    logger=False,\n",
    "    enable_checkpointing=True,  # Use `True` if you want to save model checkpoints. The checkpoints will be saved in the `checkpoints` folder.\n",
    "    enable_progress_bar=True,\n",
    "    accelerator=\"auto\",\n",
    "    devices=1,\n",
    "    max_epochs=100,  # number of epochs to train for\n",
    ")"
   ]
  },
  {
   "cell_type": "markdown",
   "metadata": {},
   "source": [
    "## Start training"
   ]
  },
  {
   "cell_type": "code",
   "execution_count": 388,
   "metadata": {},
   "outputs": [
    {
     "name": "stderr",
     "output_type": "stream",
     "text": [
      "/home/labhhc2/anaconda3/envs/chemprop/lib/python3.12/site-packages/lightning/pytorch/callbacks/model_checkpoint.py:654: Checkpoint directory /home/labhhc2/Documents/workspace/D20/Tam/backup/chemprop_1/examples/checkpoints exists and is not empty.\n",
      "LOCAL_RANK: 0 - CUDA_VISIBLE_DEVICES: [0]\n",
      "Loading `train_dataloader` to estimate number of stepping batches.\n",
      "/home/labhhc2/anaconda3/envs/chemprop/lib/python3.12/site-packages/lightning/pytorch/trainer/connectors/data_connector.py:424: The 'train_dataloader' does not have many workers which may be a bottleneck. Consider increasing the value of the `num_workers` argument` to `num_workers=23` in the `DataLoader` to improve performance.\n",
      "\n",
      "  | Name            | Type               | Params | Mode \n",
      "---------------------------------------------------------------\n",
      "0 | message_passing | BondMessagePassing | 194 K  | train\n",
      "1 | agg             | SumAggregation     | 0      | train\n",
      "2 | bn              | BatchNorm1d        | 600    | train\n",
      "3 | predictor       | RegressionFFN      | 90.6 K | train\n",
      "4 | X_d_transform   | Identity           | 0      | train\n",
      "5 | metrics         | ModuleList         | 0      | train\n",
      "---------------------------------------------------------------\n",
      "285 K     Trainable params\n",
      "0         Non-trainable params\n",
      "285 K     Total params\n",
      "1.144     Total estimated model params size (MB)\n",
      "25        Modules in train mode\n",
      "0         Modules in eval mode\n"
     ]
    },
    {
     "name": "stdout",
     "output_type": "stream",
     "text": [
      "                                                                            "
     ]
    },
    {
     "name": "stderr",
     "output_type": "stream",
     "text": [
      "/home/labhhc2/anaconda3/envs/chemprop/lib/python3.12/site-packages/lightning/pytorch/trainer/connectors/data_connector.py:424: The 'val_dataloader' does not have many workers which may be a bottleneck. Consider increasing the value of the `num_workers` argument` to `num_workers=23` in the `DataLoader` to improve performance.\n"
     ]
    },
    {
     "name": "stdout",
     "output_type": "stream",
     "text": [
      "Epoch 99: 100%|██████████| 46/46 [00:00<00:00, 203.67it/s, train_loss_step=0.0723, val_loss=0.0722, train_loss_epoch=0.0541]"
     ]
    },
    {
     "name": "stderr",
     "output_type": "stream",
     "text": [
      "`Trainer.fit` stopped: `max_epochs=100` reached.\n"
     ]
    },
    {
     "name": "stdout",
     "output_type": "stream",
     "text": [
      "Epoch 99: 100%|██████████| 46/46 [00:00<00:00, 194.23it/s, train_loss_step=0.0723, val_loss=0.0722, train_loss_epoch=0.0541]\n"
     ]
    }
   ],
   "source": [
    "trainer.fit(mpnn, train_loader, val_loader)"
   ]
  },
  {
   "cell_type": "markdown",
   "metadata": {},
   "source": [
    "## Test results"
   ]
  },
  {
   "cell_type": "code",
   "execution_count": 389,
   "metadata": {},
   "outputs": [
    {
     "name": "stderr",
     "output_type": "stream",
     "text": [
      "LOCAL_RANK: 0 - CUDA_VISIBLE_DEVICES: [0]\n",
      "/home/labhhc2/anaconda3/envs/chemprop/lib/python3.12/site-packages/lightning/pytorch/trainer/connectors/data_connector.py:424: The 'test_dataloader' does not have many workers which may be a bottleneck. Consider increasing the value of the `num_workers` argument` to `num_workers=23` in the `DataLoader` to improve performance.\n"
     ]
    },
    {
     "name": "stdout",
     "output_type": "stream",
     "text": [
      "Testing DataLoader 0: 100%|██████████| 6/6 [00:00<00:00, 397.34it/s]\n"
     ]
    },
    {
     "data": {
      "text/html": [
       "<pre style=\"white-space:pre;overflow-x:auto;line-height:normal;font-family:Menlo,'DejaVu Sans Mono',consolas,'Courier New',monospace\">┏━━━━━━━━━━━━━━━━━━━━━━━━━━━┳━━━━━━━━━━━━━━━━━━━━━━━━━━━┓\n",
       "┃<span style=\"font-weight: bold\">        Test metric        </span>┃<span style=\"font-weight: bold\">       DataLoader 0        </span>┃\n",
       "┡━━━━━━━━━━━━━━━━━━━━━━━━━━━╇━━━━━━━━━━━━━━━━━━━━━━━━━━━┩\n",
       "│<span style=\"color: #008080; text-decoration-color: #008080\">         test/mae          </span>│<span style=\"color: #800080; text-decoration-color: #800080\">     2.690730333328247     </span>│\n",
       "│<span style=\"color: #008080; text-decoration-color: #008080\">         test/rmse         </span>│<span style=\"color: #800080; text-decoration-color: #800080\">     3.728069543838501     </span>│\n",
       "└───────────────────────────┴───────────────────────────┘\n",
       "</pre>\n"
      ],
      "text/plain": [
       "┏━━━━━━━━━━━━━━━━━━━━━━━━━━━┳━━━━━━━━━━━━━━━━━━━━━━━━━━━┓\n",
       "┃\u001b[1m \u001b[0m\u001b[1m       Test metric       \u001b[0m\u001b[1m \u001b[0m┃\u001b[1m \u001b[0m\u001b[1m      DataLoader 0       \u001b[0m\u001b[1m \u001b[0m┃\n",
       "┡━━━━━━━━━━━━━━━━━━━━━━━━━━━╇━━━━━━━━━━━━━━━━━━━━━━━━━━━┩\n",
       "│\u001b[36m \u001b[0m\u001b[36m        test/mae         \u001b[0m\u001b[36m \u001b[0m│\u001b[35m \u001b[0m\u001b[35m    2.690730333328247    \u001b[0m\u001b[35m \u001b[0m│\n",
       "│\u001b[36m \u001b[0m\u001b[36m        test/rmse        \u001b[0m\u001b[36m \u001b[0m│\u001b[35m \u001b[0m\u001b[35m    3.728069543838501    \u001b[0m\u001b[35m \u001b[0m│\n",
       "└───────────────────────────┴───────────────────────────┘\n"
      ]
     },
     "metadata": {},
     "output_type": "display_data"
    }
   ],
   "source": [
    "results = trainer.test(mpnn, test_loader)"
   ]
  },
  {
   "cell_type": "code",
   "execution_count": 390,
   "metadata": {},
   "outputs": [
    {
     "data": {
      "text/plain": [
       "[{'test/rmse': 3.728069543838501, 'test/mae': 2.690730333328247}]"
      ]
     },
     "execution_count": 390,
     "metadata": {},
     "output_type": "execute_result"
    }
   ],
   "source": [
    "results"
   ]
  },
  {
   "cell_type": "code",
   "execution_count": null,
   "metadata": {},
   "outputs": [],
   "source": []
  }
 ],
 "metadata": {
  "kernelspec": {
   "display_name": "chemprop",
   "language": "python",
   "name": "python3"
  },
  "language_info": {
   "codemirror_mode": {
    "name": "ipython",
    "version": 3
   },
   "file_extension": ".py",
   "mimetype": "text/x-python",
   "name": "python",
   "nbconvert_exporter": "python",
   "pygments_lexer": "ipython3",
   "version": "3.12.7"
  },
  "orig_nbformat": 4
 },
 "nbformat": 4,
 "nbformat_minor": 2
}
