{
 "cells": [
  {
   "cell_type": "markdown",
   "metadata": {},
   "source": [
    "# Training Regression - Reaction"
   ]
  },
  {
   "cell_type": "markdown",
   "metadata": {},
   "source": [
    "# Import packages"
   ]
  },
  {
   "cell_type": "code",
   "execution_count": 60,
   "metadata": {},
   "outputs": [
    {
     "name": "stdout",
     "output_type": "stream",
     "text": [
      "/home/labhhc2/Documents/workspace/D20/Tam/backup/chemprop_1/examples\n",
      "/home/labhhc2/Documents/workspace/D20/Tam/backup/chemprop_1\n"
     ]
    }
   ],
   "source": [
    "import os\n",
    "import sys\n",
    "\n",
    "current_path=os.getcwd()\n",
    "print(current_path)\n",
    "\n",
    "parent_path=os.path.dirname(current_path)\n",
    "print(parent_path)\n",
    "\n",
    "if parent_path not in sys.path:\n",
    "    sys.path.append(parent_path)"
   ]
  },
  {
   "cell_type": "code",
   "execution_count": 61,
   "metadata": {},
   "outputs": [],
   "source": [
    "import pandas as pd\n",
    "from lightning import pytorch as pl\n",
    "from pathlib import Path\n",
    "\n",
    "from chemprop import data, featurizers, models, nn"
   ]
  },
  {
   "cell_type": "markdown",
   "metadata": {},
   "source": [
    "# Change data inputs here"
   ]
  },
  {
   "cell_type": "markdown",
   "metadata": {},
   "source": [
    "## Load data"
   ]
  },
  {
   "cell_type": "code",
   "execution_count": 62,
   "metadata": {},
   "outputs": [],
   "source": [
    "import numpy as np\n",
    "chemprop_dir = Path.cwd().parent\n",
    "num_workers = 0  # number of workers for dataloader. 0 means using main process for data loading\n",
    "# smiles_column = 'AAM'\n",
    "# target_columns = ['lograte']"
   ]
  },
  {
   "cell_type": "code",
   "execution_count": 63,
   "metadata": {},
   "outputs": [],
   "source": [
    "# train_path = chemprop_dir / \"tests\" / \"data\" / \"regression\" / \"rxn\" / \"e2sn2\" / \"fold_4\" / \"aam_train.csv\"\n",
    "# train_npz = np.load(f'../chemprop/data/super/e2sn2/fold_4/e2sn2_aam_train_processed_data.npz', allow_pickle=True)\n",
    "# train_v = train_npz['node_attrs']\n",
    "# train_e = train_npz['edge_attrs']\n",
    "# train_idx_g = train_npz['edge_indices']\n",
    "# train_y = train_npz['ys'] \n",
    "\n",
    "# val_path = chemprop_dir / \"tests\" / \"data\" / \"regression\" / \"rxn\" / \"e2sn2\" / \"fold_4\" / \"aam_val.csv\"\n",
    "# val_npz = np.load(f'../chemprop/data/super/e2sn2/fold_4/e2sn2_aam_val_processed_data.npz', allow_pickle=True)\n",
    "# val_v = val_npz['node_attrs']\n",
    "# val_e = val_npz['edge_attrs']\n",
    "# val_idx_g = val_npz['edge_indices']\n",
    "# val_y = val_npz['ys'] \n",
    "\n",
    "# test_path = chemprop_dir / \"tests\" / \"data\" / \"regression\" / \"rxn\" / \"e2sn2\" / \"fold_4\" / \"aam_test.csv\"\n",
    "# test_npz = np.load(f'../chemprop/data/super/e2sn2/fold_4/e2sn2_aam_test_processed_data.npz', allow_pickle=True)\n",
    "# test_v = test_npz['node_attrs']\n",
    "# test_e = test_npz['edge_attrs']\n",
    "# test_idx_g = test_npz['edge_indices']\n",
    "# test_y = test_npz['ys'] "
   ]
  },
  {
   "cell_type": "code",
   "execution_count": null,
   "metadata": {},
   "outputs": [
    {
     "ename": "FileNotFoundError",
     "evalue": "[Errno 2] No such file or directory: '../chemprop/data/super/barriers_cycloadd/barriers_cycloadd_G_act_aam_train_processed_data.npz'",
     "output_type": "error",
     "traceback": [
      "\u001b[31m---------------------------------------------------------------------------\u001b[39m",
      "\u001b[31mFileNotFoundError\u001b[39m                         Traceback (most recent call last)",
      "\u001b[36mCell\u001b[39m\u001b[36m \u001b[39m\u001b[32mIn[64]\u001b[39m\u001b[32m, line 2\u001b[39m\n\u001b[32m      1\u001b[39m train_path = chemprop_dir / \u001b[33m\"\u001b[39m\u001b[33mtests\u001b[39m\u001b[33m\"\u001b[39m / \u001b[33m\"\u001b[39m\u001b[33mdata\u001b[39m\u001b[33m\"\u001b[39m / \u001b[33m\"\u001b[39m\u001b[33mregression\u001b[39m\u001b[33m\"\u001b[39m / \u001b[33m\"\u001b[39m\u001b[33mrxn\u001b[39m\u001b[33m\"\u001b[39m / \u001b[33m\"\u001b[39m\u001b[33mbarriers_cycloadd\u001b[39m\u001b[33m\"\u001b[39m / \u001b[33m\"\u001b[39m\u001b[33mtrain.csv\u001b[39m\u001b[33m\"\u001b[39m\n\u001b[32m----> \u001b[39m\u001b[32m2\u001b[39m train_npz = \u001b[43mnp\u001b[49m\u001b[43m.\u001b[49m\u001b[43mload\u001b[49m\u001b[43m(\u001b[49m\u001b[33;43mf\u001b[39;49m\u001b[33;43m'\u001b[39;49m\u001b[33;43m../chemprop/data/super/barriers_cycloadd/barriers_cycloadd_G_act_aam_train_processed_data.npz\u001b[39;49m\u001b[33;43m'\u001b[39;49m\u001b[43m,\u001b[49m\u001b[43m \u001b[49m\u001b[43mallow_pickle\u001b[49m\u001b[43m=\u001b[49m\u001b[38;5;28;43;01mTrue\u001b[39;49;00m\u001b[43m)\u001b[49m\n\u001b[32m      3\u001b[39m train_v = train_npz[\u001b[33m'\u001b[39m\u001b[33mnode_attrs\u001b[39m\u001b[33m'\u001b[39m]\n\u001b[32m      4\u001b[39m train_e = train_npz[\u001b[33m'\u001b[39m\u001b[33medge_attrs\u001b[39m\u001b[33m'\u001b[39m]\n",
      "\u001b[36mFile \u001b[39m\u001b[32m~/anaconda3/envs/chemprop/lib/python3.12/site-packages/numpy/lib/npyio.py:427\u001b[39m, in \u001b[36mload\u001b[39m\u001b[34m(file, mmap_mode, allow_pickle, fix_imports, encoding, max_header_size)\u001b[39m\n\u001b[32m    425\u001b[39m     own_fid = \u001b[38;5;28;01mFalse\u001b[39;00m\n\u001b[32m    426\u001b[39m \u001b[38;5;28;01melse\u001b[39;00m:\n\u001b[32m--> \u001b[39m\u001b[32m427\u001b[39m     fid = stack.enter_context(\u001b[38;5;28;43mopen\u001b[39;49m\u001b[43m(\u001b[49m\u001b[43mos_fspath\u001b[49m\u001b[43m(\u001b[49m\u001b[43mfile\u001b[49m\u001b[43m)\u001b[49m\u001b[43m,\u001b[49m\u001b[43m \u001b[49m\u001b[33;43m\"\u001b[39;49m\u001b[33;43mrb\u001b[39;49m\u001b[33;43m\"\u001b[39;49m\u001b[43m)\u001b[49m)\n\u001b[32m    428\u001b[39m     own_fid = \u001b[38;5;28;01mTrue\u001b[39;00m\n\u001b[32m    430\u001b[39m \u001b[38;5;66;03m# Code to distinguish from NumPy binary files and pickles.\u001b[39;00m\n",
      "\u001b[31mFileNotFoundError\u001b[39m: [Errno 2] No such file or directory: '../chemprop/data/super/barriers_cycloadd/barriers_cycloadd_G_act_aam_train_processed_data.npz'"
     ]
    }
   ],
   "source": [
    "train_path = chemprop_dir / \"tests\" / \"data\" / \"regression\" / \"rxn\" / \"barriers_cycloadd\" / \"train.csv\"\n",
    "train_npz = np.load(f'../chemprop/data/super/barriers_cycloadd/barriers_cycloadd_Gact_aam_train_processed_data.npz', allow_pickle=True)\n",
    "train_v = train_npz['node_attrs']\n",
    "train_e = train_npz['edge_attrs']\n",
    "train_idx_g = train_npz['edge_indices']\n",
    "train_y = train_npz['ys'] \n",
    "\n",
    "val_path = chemprop_dir / \"tests\" / \"data\" / \"regression\" / \"rxn\" / \"barriers_cycloadd\" / \"val.csv\"\n",
    "val_npz = np.load(f'../chemprop/data/super/barriers_cycloadd/barriers_cycloadd_Gact_aam_val_processed_data.npz', allow_pickle=True)\n",
    "val_v = val_npz['node_attrs']\n",
    "val_e = val_npz['edge_attrs']\n",
    "val_idx_g = val_npz['edge_indices']\n",
    "val_y = val_npz['ys'] \n",
    "\n",
    "test_path = chemprop_dir / \"tests\" / \"data\" / \"regression\" / \"rxn\" / \"barriers_cycloadd\" / \"test.csv\"\n",
    "test_npz = np.load(f'../chemprop/data/super/barriers_cycloadd/barriers_cycloadd_Gact_aam_test_processed_data.npz', allow_pickle=True)\n",
    "test_v = test_npz['node_attrs']\n",
    "test_e = test_npz['edge_attrs']\n",
    "test_idx_g = test_npz['edge_indices']\n",
    "test_y = test_npz['ys'] "
   ]
  },
  {
   "cell_type": "code",
   "execution_count": null,
   "metadata": {},
   "outputs": [
    {
     "name": "stdout",
     "output_type": "stream",
     "text": [
      "(4216,) (527,) (526,)\n"
     ]
    }
   ],
   "source": [
    "print(train_idx_g.shape, val_y.shape, test_y.shape)"
   ]
  },
  {
   "cell_type": "markdown",
   "metadata": {},
   "source": [
    "## Perform data splitting for training, validation, and testing"
   ]
  },
  {
   "cell_type": "markdown",
   "metadata": {},
   "source": [
    "## Get ReactionDatasets"
   ]
  },
  {
   "cell_type": "code",
   "execution_count": null,
   "metadata": {},
   "outputs": [
    {
     "name": "stdout",
     "output_type": "stream",
     "text": [
      "[5.84979105]\n",
      "[[  5.84979105]\n",
      " [-44.51964951]\n",
      " [ -4.15103102]\n",
      " ...\n",
      " [ -6.86291885]\n",
      " [-40.39235687]\n",
      " [ -7.71586227]]\n",
      "[[ 1.52293379]\n",
      " [-0.81575755]\n",
      " [ 1.05858804]\n",
      " ...\n",
      " [ 0.93267303]\n",
      " [-0.62412422]\n",
      " [ 0.89307022]]\n",
      "[1.52293379]\n",
      "[[-8.10949014e-02]\n",
      " [-2.40323370e-01]\n",
      " [ 4.67506943e-01]\n",
      " [-1.39443903e+00]\n",
      " [-6.59896824e-01]\n",
      " [ 3.24813367e-02]\n",
      " [-1.13267469e-01]\n",
      " [-8.97691414e-02]\n",
      " [ 3.47378885e-01]\n",
      " [ 1.79617783e-01]\n",
      " [-5.41389674e-01]\n",
      " [ 8.86066500e-01]\n",
      " [ 2.00428325e-01]\n",
      " [-9.16497153e-01]\n",
      " [ 1.33187548e+00]\n",
      " [ 1.34193994e+00]\n",
      " [ 6.23963672e-01]\n",
      " [-1.30115544e+00]\n",
      " [-1.84803647e-01]\n",
      " [-9.37277674e-01]\n",
      " [-7.84962072e-02]\n",
      " [-1.56933210e+00]\n",
      " [-5.74354840e-02]\n",
      " [ 5.22317304e-01]\n",
      " [ 1.08009518e-01]\n",
      " [-9.08019870e-01]\n",
      " [-6.87861834e-01]\n",
      " [ 3.78299928e-01]\n",
      " [ 1.16657977e+00]\n",
      " [-7.64645171e-01]\n",
      " [ 6.53532010e-01]\n",
      " [ 1.98043174e+00]\n",
      " [ 9.32548136e-01]\n",
      " [-2.51022615e-01]\n",
      " [-5.82192113e-01]\n",
      " [ 9.97022014e-01]\n",
      " [-7.17437390e-01]\n",
      " [ 1.39161792e+00]\n",
      " [-3.57409138e-01]\n",
      " [ 9.14855779e-01]\n",
      " [ 9.65291647e-01]\n",
      " [-5.79876987e-01]\n",
      " [ 3.64113027e-01]\n",
      " [-4.99579603e-01]\n",
      " [-6.92390243e-01]\n",
      " [ 1.03809139e+00]\n",
      " [-5.63494692e-01]\n",
      " [-9.08268368e-01]\n",
      " [ 5.22131771e-01]\n",
      " [ 3.30521114e-01]\n",
      " [-2.26160231e+00]\n",
      " [ 1.35372927e+00]\n",
      " [ 3.23238146e-01]\n",
      " [ 1.22176811e+00]\n",
      " [-3.41768875e-02]\n",
      " [-2.78823259e-01]\n",
      " [ 5.36076284e-01]\n",
      " [ 5.53151248e-01]\n",
      " [ 2.81604929e-01]\n",
      " [ 1.22221729e+00]\n",
      " [-2.39374443e-02]\n",
      " [ 5.07093724e-01]\n",
      " [ 6.60118634e-01]\n",
      " [ 3.59368001e-01]\n",
      " [ 6.97977129e-01]\n",
      " [ 1.15064172e+00]\n",
      " [ 4.83446616e-01]\n",
      " [ 1.02906357e-01]\n",
      " [-4.62345055e-01]\n",
      " [ 5.66622454e-01]\n",
      " [ 9.11064740e-01]\n",
      " [ 9.44722054e-01]\n",
      " [ 5.53662060e-01]\n",
      " [-1.15757510e+00]\n",
      " [-1.03805040e+00]\n",
      " [ 1.79914369e-01]\n",
      " [ 8.62572932e-01]\n",
      " [-7.25887574e-01]\n",
      " [-1.91315731e+00]\n",
      " [ 2.91576037e-01]\n",
      " [ 3.05220598e-01]\n",
      " [-1.73721913e-01]\n",
      " [-2.26243892e-01]\n",
      " [-7.93511364e-01]\n",
      " [-6.62562647e-01]\n",
      " [-5.90350759e-01]\n",
      " [ 7.63476240e-01]\n",
      " [-3.08448585e-01]\n",
      " [ 1.07836298e+00]\n",
      " [-1.03036945e+00]\n",
      " [-1.19155756e+00]\n",
      " [-7.40584401e-01]\n",
      " [ 1.53337048e+00]\n",
      " [ 1.13828825e+00]\n",
      " [ 9.30537898e-01]\n",
      " [-2.74149081e-01]\n",
      " [-5.76146854e-01]\n",
      " [ 7.09814675e-01]\n",
      " [-5.46722204e-01]\n",
      " [-8.89758163e-01]\n",
      " [ 1.18520032e+00]\n",
      " [-1.02098177e+00]\n",
      " [-9.35341760e-01]\n",
      " [ 5.13287187e-01]\n",
      " [-4.15826268e-01]\n",
      " [-2.85131185e-01]\n",
      " [-4.41052660e-01]\n",
      " [ 6.83711012e-01]\n",
      " [-4.00387842e-01]\n",
      " [ 1.98885536e+00]\n",
      " [-1.02230680e+00]\n",
      " [ 2.34705956e-01]\n",
      " [-1.00290824e-01]\n",
      " [ 1.16691425e+00]\n",
      " [-1.20834440e+00]\n",
      " [ 9.18697939e-01]\n",
      " [-9.33745738e-01]\n",
      " [-8.08994601e-01]\n",
      " [-2.03770023e-01]\n",
      " [-9.75850889e-01]\n",
      " [-6.85198492e-01]\n",
      " [ 1.65129929e+00]\n",
      " [ 1.26866490e+00]\n",
      " [-5.05458192e-01]\n",
      " [-9.11100860e-01]\n",
      " [ 9.75429180e-01]\n",
      " [ 6.06160040e-01]\n",
      " [-8.67847267e-01]\n",
      " [-3.45910909e-01]\n",
      " [-7.08393148e-01]\n",
      " [ 8.77163975e-01]\n",
      " [-3.15167428e-01]\n",
      " [-6.37184641e-01]\n",
      " [ 1.29712210e-01]\n",
      " [-3.23575812e-01]\n",
      " [ 1.19386113e+00]\n",
      " [-1.23850516e+00]\n",
      " [-1.48618629e+00]\n",
      " [-1.87377721e-01]\n",
      " [ 3.12469924e-02]\n",
      " [ 1.06125204e+00]\n",
      " [-1.35059421e+00]\n",
      " [ 1.07965256e+00]\n",
      " [ 8.74544071e-01]\n",
      " [ 1.43045142e+00]\n",
      " [ 3.94081256e-01]\n",
      " [ 1.15387531e+00]\n",
      " [-7.06005580e-01]\n",
      " [ 1.04866557e+00]\n",
      " [ 8.41148495e-01]\n",
      " [-1.53701545e+00]\n",
      " [-3.80557921e-01]\n",
      " [-4.71444735e-01]\n",
      " [-1.47637378e-01]\n",
      " [-6.51423792e-01]\n",
      " [ 1.34688964e+00]\n",
      " [ 2.32794501e+00]\n",
      " [ 3.81184935e-01]\n",
      " [ 1.54011137e+00]\n",
      " [-4.55716897e-01]\n",
      " [ 7.00689002e-01]\n",
      " [-2.45608496e+00]\n",
      " [ 7.30226433e-01]\n",
      " [-2.92876867e-02]\n",
      " [-1.97556104e+00]\n",
      " [ 2.04890765e+00]\n",
      " [ 1.03177592e+00]\n",
      " [ 2.20333345e-01]\n",
      " [ 2.84038814e-01]\n",
      " [-1.16899009e+00]\n",
      " [-7.98146576e-01]\n",
      " [-1.99343989e-01]\n",
      " [-1.07059749e+00]\n",
      " [-3.46389662e-01]\n",
      " [-1.09259614e-01]\n",
      " [-1.51981965e+00]\n",
      " [ 1.15547435e+00]\n",
      " [ 1.18968080e+00]\n",
      " [ 8.55415276e-01]\n",
      " [ 1.21271871e+00]\n",
      " [-1.28748572e+00]\n",
      " [-1.20439560e-01]\n",
      " [-1.30113170e+00]\n",
      " [ 3.06957784e-01]\n",
      " [-5.35740454e-01]\n",
      " [-2.86423093e-01]\n",
      " [ 4.82369200e-01]\n",
      " [ 2.74134126e-01]\n",
      " [ 1.03430541e-01]\n",
      " [ 4.64493435e-01]\n",
      " [-2.23195431e+00]\n",
      " [ 1.23883092e+00]\n",
      " [-3.75911551e-01]\n",
      " [ 2.52233769e-01]\n",
      " [ 9.51214273e-01]\n",
      " [ 6.62987834e-01]\n",
      " [-9.54984997e-01]\n",
      " [ 1.12497014e+00]\n",
      " [-2.32192001e-01]\n",
      " [ 3.27882834e-01]\n",
      " [-1.47963961e+00]\n",
      " [-7.10906116e-01]\n",
      " [-6.80043258e-01]\n",
      " [ 1.07933382e+00]\n",
      " [-1.25593015e+00]\n",
      " [ 7.62607426e-01]\n",
      " [ 2.31308808e-01]\n",
      " [ 2.04760485e+00]\n",
      " [ 2.09090078e+00]\n",
      " [ 1.80298700e+00]\n",
      " [ 7.48613231e-01]\n",
      " [-3.73516544e-01]\n",
      " [ 1.20493315e+00]\n",
      " [-5.82226828e-01]\n",
      " [ 6.31654590e-01]\n",
      " [ 3.77324886e-01]\n",
      " [-8.92401314e-01]\n",
      " [ 1.60913775e+00]\n",
      " [ 1.69068655e+00]\n",
      " [ 5.47399176e-02]\n",
      " [-1.14436200e+00]\n",
      " [-8.14629474e-01]\n",
      " [ 1.68833719e+00]\n",
      " [-2.83215286e-01]\n",
      " [-3.67255908e-01]\n",
      " [ 4.09701318e-01]\n",
      " [ 1.07265688e+00]\n",
      " [-5.24243365e-02]\n",
      " [-2.84315728e-01]\n",
      " [ 1.11210881e+00]\n",
      " [ 1.88777993e+00]\n",
      " [-1.23860027e+00]\n",
      " [ 1.38846871e-01]\n",
      " [-6.58599957e-01]\n",
      " [ 8.14210953e-01]\n",
      " [ 4.86411682e-01]\n",
      " [ 7.02595736e-01]\n",
      " [ 1.17236183e+00]\n",
      " [ 8.01193926e-01]\n",
      " [ 5.13146908e-01]\n",
      " [-1.79912755e+00]\n",
      " [-1.84245589e+00]\n",
      " [ 6.13286700e-01]\n",
      " [-2.03087822e+00]\n",
      " [-9.72821087e-01]\n",
      " [-1.87192571e+00]\n",
      " [-1.04450055e+00]\n",
      " [ 1.02091494e+00]\n",
      " [-5.91242200e-01]\n",
      " [ 1.89389679e+00]\n",
      " [ 8.67896784e-01]\n",
      " [-8.32701309e-01]\n",
      " [ 3.43257684e-02]\n",
      " [-3.82183168e-01]\n",
      " [-2.72165699e-01]\n",
      " [ 1.08528286e+00]\n",
      " [ 2.53579787e-01]\n",
      " [-1.19621899e+00]\n",
      " [ 1.12459695e+00]\n",
      " [-7.68132473e-01]\n",
      " [ 1.72052133e-01]\n",
      " [ 1.08523712e+00]\n",
      " [-4.49246729e-01]\n",
      " [-8.32618595e-01]\n",
      " [ 5.49694366e-01]\n",
      " [-7.40147094e-01]\n",
      " [ 2.74096488e-01]\n",
      " [-6.96162328e-03]\n",
      " [ 1.40378783e+00]\n",
      " [ 1.96508853e-01]\n",
      " [-1.30910791e+00]\n",
      " [-1.26221718e+00]\n",
      " [ 6.03147816e-01]\n",
      " [-1.05747515e-01]\n",
      " [-8.40297247e-01]\n",
      " [-1.68766851e+00]\n",
      " [ 1.96758975e+00]\n",
      " [-9.73737502e-01]\n",
      " [-5.91854324e-01]\n",
      " [ 8.38144596e-01]\n",
      " [ 1.43518289e+00]\n",
      " [-1.64678202e-01]\n",
      " [ 9.46864024e-01]\n",
      " [-1.04957449e+00]\n",
      " [-1.74942151e+00]\n",
      " [ 6.79481359e-01]\n",
      " [ 1.33645785e+00]\n",
      " [-1.55424314e+00]\n",
      " [ 1.09370309e+00]\n",
      " [-1.48605327e+00]\n",
      " [ 1.86675468e+00]\n",
      " [-2.64824104e-01]\n",
      " [-1.89336352e+00]\n",
      " [ 1.60770697e-01]\n",
      " [ 2.54114333e-01]\n",
      " [ 7.02878020e-01]\n",
      " [ 2.87308613e-01]\n",
      " [-6.85257196e-02]\n",
      " [ 2.17494751e+00]\n",
      " [ 4.42402764e-01]\n",
      " [-2.73596114e-01]\n",
      " [-1.01946616e+00]\n",
      " [-7.26727297e-01]\n",
      " [-5.06156829e-02]\n",
      " [-5.55605877e-02]\n",
      " [ 1.04132874e+00]\n",
      " [-1.51942839e+00]\n",
      " [ 1.78516384e+00]\n",
      " [ 1.83282470e-01]\n",
      " [ 2.56930741e+00]\n",
      " [ 4.23432845e-01]\n",
      " [-1.67126699e-01]\n",
      " [-8.87573042e-01]\n",
      " [ 1.43273525e-01]\n",
      " [ 1.51516769e+00]\n",
      " [-1.56272298e-01]\n",
      " [ 3.10709525e-01]\n",
      " [ 9.43251432e-01]\n",
      " [ 1.11785804e+00]\n",
      " [-1.26635990e-01]\n",
      " [ 1.33105910e+00]\n",
      " [ 1.33880068e+00]\n",
      " [ 4.43119477e-01]\n",
      " [-5.43968353e-01]\n",
      " [-1.77889026e+00]\n",
      " [-5.52772068e-01]\n",
      " [ 2.40443381e-01]\n",
      " [ 1.46030136e+00]\n",
      " [-6.06256248e-01]\n",
      " [-4.69543537e-01]\n",
      " [ 3.49501306e-01]\n",
      " [-5.27744581e-01]\n",
      " [-1.72876692e+00]\n",
      " [ 8.43932289e-02]\n",
      " [-7.33212520e-01]\n",
      " [ 7.41869503e-01]\n",
      " [ 2.05315312e-01]\n",
      " [ 3.02487647e-01]\n",
      " [ 7.70099350e-01]\n",
      " [ 1.01860829e+00]\n",
      " [-2.32337621e+00]\n",
      " [ 7.89789259e-01]\n",
      " [-3.09496246e-01]\n",
      " [ 1.30969875e+00]\n",
      " [ 1.33169163e+00]\n",
      " [ 6.13253800e-01]\n",
      " [-2.38657130e+00]\n",
      " [ 7.96941380e-01]\n",
      " [ 6.64125736e-01]\n",
      " [-1.11807201e+00]\n",
      " [-1.98105394e-01]\n",
      " [-1.84852364e+00]\n",
      " [-9.38207451e-02]\n",
      " [ 4.11427257e-01]\n",
      " [-1.05302655e+00]\n",
      " [-3.37202839e-01]\n",
      " [ 9.07932451e-01]\n",
      " [ 8.22578246e-01]\n",
      " [-2.27739488e-01]\n",
      " [-1.18938740e-01]\n",
      " [ 1.61342438e-01]\n",
      " [ 5.87260039e-01]\n",
      " [ 5.26540890e-01]\n",
      " [-9.25780861e-01]\n",
      " [ 4.23357304e-01]\n",
      " [-6.75151754e-01]\n",
      " [ 1.74715918e-01]\n",
      " [ 8.14278436e-01]\n",
      " [ 1.62607485e+00]\n",
      " [ 1.04853154e+00]\n",
      " [-3.92583789e-01]\n",
      " [ 1.08441698e+00]\n",
      " [ 1.18518466e+00]\n",
      " [ 7.93386773e-01]\n",
      " [ 9.82740510e-01]\n",
      " [ 4.42354155e-02]\n",
      " [ 1.37458380e+00]\n",
      " [-3.49419110e-01]\n",
      " [-1.63918626e-01]\n",
      " [ 3.21972806e-01]\n",
      " [ 2.19005128e-01]\n",
      " [-4.07943397e-01]\n",
      " [-2.91376588e-01]\n",
      " [ 4.96277049e-01]\n",
      " [ 1.59405485e+00]\n",
      " [ 1.24000952e+00]\n",
      " [ 8.01891289e-01]\n",
      " [-6.02370683e-02]\n",
      " [-1.30216838e+00]\n",
      " [-1.67526113e+00]\n",
      " [-5.63557038e-01]\n",
      " [-1.35667844e+00]\n",
      " [-1.88316216e+00]\n",
      " [ 9.50778913e-01]\n",
      " [-1.53542970e+00]\n",
      " [-1.69717805e+00]\n",
      " [ 1.00541813e+00]\n",
      " [ 7.18707303e-01]\n",
      " [ 1.67356878e-01]\n",
      " [ 7.86811618e-01]\n",
      " [-1.50688268e+00]\n",
      " [ 1.10815722e+00]\n",
      " [-1.65821865e-04]\n",
      " [-7.75053232e-01]\n",
      " [ 4.75570324e-03]\n",
      " [ 7.00377007e-01]\n",
      " [ 9.83579391e-01]\n",
      " [ 1.31216783e+00]\n",
      " [ 1.12324967e+00]\n",
      " [ 7.70531399e-02]\n",
      " [-4.18757946e-01]\n",
      " [ 5.48482605e-01]\n",
      " [ 1.53307776e-01]\n",
      " [-1.14493357e+00]\n",
      " [ 1.22078808e+00]\n",
      " [-4.15279855e-01]\n",
      " [ 1.23589652e+00]\n",
      " [ 1.14088163e+00]\n",
      " [-1.63857697e-01]\n",
      " [-9.17150369e-01]\n",
      " [ 1.17155610e+00]\n",
      " [ 9.76083481e-01]\n",
      " [-2.14438689e+00]\n",
      " [ 1.35384632e-01]\n",
      " [ 1.76932212e-01]\n",
      " [ 2.55234275e+00]\n",
      " [-3.65674056e-01]\n",
      " [-2.67635165e-01]\n",
      " [-1.91187036e+00]\n",
      " [ 2.60244530e-02]\n",
      " [ 3.17865233e-01]\n",
      " [ 9.57085113e-01]\n",
      " [ 2.84605153e-01]\n",
      " [-1.59926562e+00]\n",
      " [ 2.01300549e-01]\n",
      " [-3.99250559e-01]\n",
      " [ 2.04538510e+00]\n",
      " [ 2.62446910e-01]\n",
      " [-5.14089746e-01]\n",
      " [-3.82382073e-01]\n",
      " [-1.35667401e+00]\n",
      " [ 6.39015623e-01]\n",
      " [ 1.58941151e+00]\n",
      " [ 5.29290446e-01]\n",
      " [ 7.00434669e-02]\n",
      " [ 1.43147547e+00]\n",
      " [-1.09326663e+00]\n",
      " [ 7.65742924e-01]\n",
      " [-7.70704599e-01]\n",
      " [ 7.59220108e-01]\n",
      " [ 6.94623021e-01]\n",
      " [ 1.16735759e+00]\n",
      " [ 7.11929524e-01]\n",
      " [-5.22703766e-01]\n",
      " [-1.66266511e+00]\n",
      " [ 2.05453411e+00]\n",
      " [-6.72152948e-01]\n",
      " [-1.89282685e+00]\n",
      " [-6.03488582e-01]\n",
      " [ 2.15667138e-01]\n",
      " [ 1.41687198e+00]\n",
      " [-1.35061671e+00]\n",
      " [ 2.85403341e-01]\n",
      " [ 7.29863117e-01]\n",
      " [-8.97207623e-01]\n",
      " [-1.05168841e+00]\n",
      " [ 1.79085274e-01]\n",
      " [-7.22719619e-01]\n",
      " [-6.33732409e-01]\n",
      " [-1.74214914e-02]\n",
      " [-5.45990347e-01]\n",
      " [-2.99823938e-01]\n",
      " [-5.19801489e-01]\n",
      " [ 3.63827688e-01]\n",
      " [ 1.63307665e-01]\n",
      " [-3.09883605e-01]\n",
      " [-1.34117066e-01]\n",
      " [-1.21209763e-01]\n",
      " [-1.78105350e-01]\n",
      " [ 5.20368947e-01]\n",
      " [ 5.84462041e-01]\n",
      " [-8.86299883e-03]\n",
      " [ 5.06189087e-01]\n",
      " [-2.27992148e-01]\n",
      " [-4.55047740e-01]\n",
      " [-5.99880130e-01]\n",
      " [-1.43928439e+00]\n",
      " [ 1.07019793e+00]\n",
      " [ 1.12678449e+00]\n",
      " [-1.40523268e+00]\n",
      " [ 3.36172875e+00]\n",
      " [-8.23535563e-01]\n",
      " [-8.78725480e-02]\n",
      " [ 1.32913059e+00]\n",
      " [ 3.92807946e-01]\n",
      " [ 5.33730162e-01]\n",
      " [ 1.69602485e-01]\n",
      " [-3.79767438e-01]\n",
      " [-6.33286954e-01]\n",
      " [-2.14863775e+00]\n",
      " [ 1.55870603e-01]\n",
      " [ 8.09736123e-01]\n",
      " [ 1.27078623e-01]\n",
      " [-3.21790705e-02]\n",
      " [-1.73643547e+00]\n",
      " [ 6.78685518e-01]\n",
      " [-8.75046812e-01]\n",
      " [ 9.89140870e-01]\n",
      " [-1.37871402e+00]\n",
      " [-3.16344287e-02]\n",
      " [ 9.66591747e-01]\n",
      " [ 9.03351382e-02]\n",
      " [-3.64555193e-01]\n",
      " [ 1.22313530e+00]\n",
      " [ 3.81101335e-01]\n",
      " [-1.03112309e+00]\n",
      " [ 1.24896475e+00]\n",
      " [-1.77285287e-01]\n",
      " [-1.22683795e+00]\n",
      " [-5.71903608e-01]\n",
      " [ 7.40302661e-01]\n",
      " [ 6.75518403e-01]\n",
      " [-8.70948803e-01]\n",
      " [-2.08488392e-01]\n",
      " [-4.66126552e-01]\n",
      " [ 6.71501825e-01]\n",
      " [ 1.08947468e+00]]\n"
     ]
    }
   ],
   "source": [
    "train_dset = data.ReactionDataset(train_v, train_e, train_idx_g, train_y)\n",
    "print(train_dset[0][3])\n",
    "scaler = train_dset.normalize_targets()\n",
    "# print(scaler)\n",
    "print(train_dset[0][3])\n",
    "\n",
    "val_dset = data.ReactionDataset(val_v, val_e, val_idx_g, val_y)\n",
    "val_dset.normalize_targets(scaler)\n",
    "test_dset = data.ReactionDataset(test_v, test_e, test_idx_g, test_y)"
   ]
  },
  {
   "cell_type": "code",
   "execution_count": null,
   "metadata": {},
   "outputs": [
    {
     "data": {
      "text/plain": [
       "array([1.52293379])"
      ]
     },
     "execution_count": 40,
     "metadata": {},
     "output_type": "execute_result"
    }
   ],
   "source": [
    "train_dset[0][3]"
   ]
  },
  {
   "cell_type": "code",
   "execution_count": null,
   "metadata": {},
   "outputs": [
    {
     "name": "stdout",
     "output_type": "stream",
     "text": [
      "edge_index: [[ 0  1  1  2  1  3  3  4  3  8  3 20  4  5  5  6  5 19  6  7  8  9  8 13\n",
      "   9 10 10 11 11 12 12 13 14 15 15 16 16 17 16 19 16 26 17 18 19 20 20 21\n",
      "  21 22 21 23 23 24 24 25 25 26 27 28 27 29 29 30 29 34 29 36 30 31 31 32\n",
      "  31 35 32 33 35 36 37 27 37 28 37 29 37 30 37 31 37 32 37 33 37 34 37 35\n",
      "  37 36]\n",
      " [ 1  0  2  1  3  1  4  3  8  3 20  3  5  4  6  5 19  5  7  6  9  8 13  8\n",
      "  10  9 11 10 12 11 13 12 15 14 16 15 17 16 19 16 26 16 18 17 20 19 21 20\n",
      "  22 21 23 21 24 23 25 24 26 25 28 27 29 27 30 29 34 29 36 29 31 30 32 31\n",
      "  35 31 33 32 36 35 27 37 28 37 29 37 30 37 31 37 32 37 33 37 34 37 35 37\n",
      "  36 37]]\n",
      "reverse_index: [ 1  0  3  2  5  4  7  6  9  8 11 10 13 12 15 14 17 16 19 18 21 20 23 22\n",
      " 25 24 27 26 29 28 31 30 33 32 35 34 37 36 39 38 41 40 43 42 45 44 47 46\n",
      " 49 48 51 50 53 52 55 54 57 56 59 58 61 60 63 62 65 64 67 66 69 68 71 70\n",
      " 73 72 75 74 77 76 79 78 81 80 83 82 85 84 87 86 89 88 91 90 93 92 95 94\n",
      " 97 96]\n"
     ]
    }
   ],
   "source": [
    "edge_index=train_dset[1][0][-2]\n",
    "print(f'edge_index: {edge_index}')\n",
    "reverse_index=train_dset[1][0][-1]\n",
    "print(f'reverse_index: {reverse_index}')"
   ]
  },
  {
   "cell_type": "code",
   "execution_count": null,
   "metadata": {},
   "outputs": [
    {
     "data": {
      "text/plain": [
       "array([1, 0, 3, 2, 5, 4])"
      ]
     },
     "execution_count": 42,
     "metadata": {},
     "output_type": "execute_result"
    }
   ],
   "source": [
    "import numpy as np\n",
    "\n",
    "np.arange(6).reshape(-1,2)[:, ::-1].ravel()"
   ]
  },
  {
   "cell_type": "markdown",
   "metadata": {},
   "source": [
    "## Get dataloaders"
   ]
  },
  {
   "cell_type": "code",
   "execution_count": null,
   "metadata": {},
   "outputs": [],
   "source": [
    "train_loader = data.build_dataloader(train_dset, num_workers=num_workers)\n",
    "val_loader = data.build_dataloader(val_dset, num_workers=num_workers, shuffle=False)\n",
    "test_loader = data.build_dataloader(test_dset, num_workers=num_workers, shuffle=False)"
   ]
  },
  {
   "cell_type": "markdown",
   "metadata": {},
   "source": [
    "# Change Message-Passing Neural Network (MPNN) inputs here"
   ]
  },
  {
   "cell_type": "markdown",
   "metadata": {},
   "source": [
    "## Message passing\n",
    "\n",
    "Message passing blocks must be given the shape of the featurizer's outputs.\n",
    "\n",
    "Options are `mp = nn.BondMessagePassing()` or `mp = nn.AtomMessagePassing()`"
   ]
  },
  {
   "cell_type": "code",
   "execution_count": null,
   "metadata": {},
   "outputs": [
    {
     "data": {
      "text/plain": [
       "23"
      ]
     },
     "execution_count": 44,
     "metadata": {},
     "output_type": "execute_result"
    }
   ],
   "source": [
    "train_v[0].shape[1]"
   ]
  },
  {
   "cell_type": "code",
   "execution_count": null,
   "metadata": {},
   "outputs": [],
   "source": [
    "fdims = (train_v[0].shape[1],train_e[0].shape[1]) # the dimensions of the featurizer, given as (atom_dims, bond_dims).\n",
    "mp = nn.BondMessagePassing(*fdims)"
   ]
  },
  {
   "cell_type": "code",
   "execution_count": null,
   "metadata": {},
   "outputs": [
    {
     "name": "stdout",
     "output_type": "stream",
     "text": [
      "23 6\n"
     ]
    }
   ],
   "source": [
    "print(*fdims)"
   ]
  },
  {
   "cell_type": "markdown",
   "metadata": {},
   "source": [
    "## Aggregation"
   ]
  },
  {
   "cell_type": "code",
   "execution_count": null,
   "metadata": {},
   "outputs": [
    {
     "name": "stdout",
     "output_type": "stream",
     "text": [
      "ClassRegistry {\n",
      "    'mean': <class 'chemprop.nn.agg.MeanAggregation'>,\n",
      "    'sum': <class 'chemprop.nn.agg.SumAggregation'>,\n",
      "    'norm': <class 'chemprop.nn.agg.NormAggregation'>\n",
      "}\n"
     ]
    }
   ],
   "source": [
    "print(nn.agg.AggregationRegistry)"
   ]
  },
  {
   "cell_type": "code",
   "execution_count": null,
   "metadata": {},
   "outputs": [],
   "source": [
    "# agg = nn.MeanAggregation()  #try Mean or Sum\n",
    "agg = nn.SumAggregation()  #try Mean or Sum"
   ]
  },
  {
   "cell_type": "markdown",
   "metadata": {},
   "source": [
    "## Feed-Forward Network (FFN)"
   ]
  },
  {
   "cell_type": "code",
   "execution_count": null,
   "metadata": {},
   "outputs": [
    {
     "name": "stdout",
     "output_type": "stream",
     "text": [
      "ClassRegistry {\n",
      "    'regression': <class 'chemprop.nn.predictors.RegressionFFN'>,\n",
      "    'regression-mve': <class 'chemprop.nn.predictors.MveFFN'>,\n",
      "    'regression-evidential': <class 'chemprop.nn.predictors.EvidentialFFN'>,\n",
      "    'regression-quantile': <class 'chemprop.nn.predictors.QuantileFFN'>,\n",
      "    'classification': <class 'chemprop.nn.predictors.BinaryClassificationFFN'>,\n",
      "    'classification-dirichlet': <class 'chemprop.nn.predictors.BinaryDirichletFFN'>,\n",
      "    'multiclass': <class 'chemprop.nn.predictors.MulticlassClassificationFFN'>,\n",
      "    'multiclass-dirichlet': <class 'chemprop.nn.predictors.MulticlassDirichletFFN'>,\n",
      "    'spectral': <class 'chemprop.nn.predictors.SpectralFFN'>\n",
      "}\n"
     ]
    }
   ],
   "source": [
    "print(nn.PredictorRegistry)"
   ]
  },
  {
   "cell_type": "code",
   "execution_count": null,
   "metadata": {},
   "outputs": [],
   "source": [
    "output_transform = nn.UnscaleTransform.from_standard_scaler(scaler)"
   ]
  },
  {
   "cell_type": "code",
   "execution_count": null,
   "metadata": {},
   "outputs": [],
   "source": [
    "ffn = nn.RegressionFFN(output_transform=output_transform)"
   ]
  },
  {
   "cell_type": "markdown",
   "metadata": {},
   "source": [
    "## Batch norm"
   ]
  },
  {
   "cell_type": "code",
   "execution_count": null,
   "metadata": {},
   "outputs": [],
   "source": [
    "batch_norm = True"
   ]
  },
  {
   "cell_type": "markdown",
   "metadata": {},
   "source": [
    "## Metrics"
   ]
  },
  {
   "cell_type": "code",
   "execution_count": null,
   "metadata": {},
   "outputs": [
    {
     "name": "stdout",
     "output_type": "stream",
     "text": [
      "ClassRegistry {\n",
      "    'mse': <class 'chemprop.nn.metrics.MSE'>,\n",
      "    'mae': <class 'chemprop.nn.metrics.MAE'>,\n",
      "    'rmse': <class 'chemprop.nn.metrics.RMSE'>,\n",
      "    'bounded-mse': <class 'chemprop.nn.metrics.BoundedMSE'>,\n",
      "    'bounded-mae': <class 'chemprop.nn.metrics.BoundedMAE'>,\n",
      "    'bounded-rmse': <class 'chemprop.nn.metrics.BoundedRMSE'>,\n",
      "    'r2': <class 'chemprop.nn.metrics.R2Score'>,\n",
      "    'binary-mcc': <class 'chemprop.nn.metrics.BinaryMCCMetric'>,\n",
      "    'multiclass-mcc': <class 'chemprop.nn.metrics.MulticlassMCCMetric'>,\n",
      "    'roc': <class 'chemprop.nn.metrics.BinaryAUROC'>,\n",
      "    'prc': <class 'chemprop.nn.metrics.BinaryAUPRC'>,\n",
      "    'accuracy': <class 'chemprop.nn.metrics.BinaryAccuracy'>,\n",
      "    'f1': <class 'chemprop.nn.metrics.BinaryF1Score'>\n",
      "}\n"
     ]
    }
   ],
   "source": [
    "print(nn.metrics.MetricRegistry)"
   ]
  },
  {
   "cell_type": "code",
   "execution_count": null,
   "metadata": {},
   "outputs": [],
   "source": [
    "metric_list = [nn.metrics.RMSE(), nn.metrics.MAE()] \n",
    "# Only the first metric is used for training and early stopping"
   ]
  },
  {
   "cell_type": "markdown",
   "metadata": {},
   "source": [
    "## Construct MPNN"
   ]
  },
  {
   "cell_type": "code",
   "execution_count": null,
   "metadata": {},
   "outputs": [
    {
     "data": {
      "text/plain": [
       "MPNN(\n",
       "  (message_passing): BondMessagePassing(\n",
       "    (W_i): Linear(in_features=29, out_features=300, bias=False)\n",
       "    (W_h): Linear(in_features=300, out_features=300, bias=False)\n",
       "    (W_o): Linear(in_features=323, out_features=300, bias=True)\n",
       "    (dropout): Dropout(p=0.0, inplace=False)\n",
       "    (tau): ReLU()\n",
       "    (V_d_transform): Identity()\n",
       "    (graph_transform): Identity()\n",
       "  )\n",
       "  (agg): SumAggregation()\n",
       "  (bn): BatchNorm1d(300, eps=1e-05, momentum=0.1, affine=True, track_running_stats=True)\n",
       "  (predictor): RegressionFFN(\n",
       "    (ffn): MLP(\n",
       "      (0): Sequential(\n",
       "        (0): Linear(in_features=300, out_features=300, bias=True)\n",
       "      )\n",
       "      (1): Sequential(\n",
       "        (0): ReLU()\n",
       "        (1): Dropout(p=0.0, inplace=False)\n",
       "        (2): Linear(in_features=300, out_features=1, bias=True)\n",
       "      )\n",
       "    )\n",
       "    (criterion): MSE(task_weights=[[1.0]])\n",
       "    (output_transform): UnscaleTransform()\n",
       "  )\n",
       "  (X_d_transform): Identity()\n",
       "  (metrics): ModuleList(\n",
       "    (0): RMSE(task_weights=[[1.0]])\n",
       "    (1): MAE(task_weights=[[1.0]])\n",
       "    (2): MSE(task_weights=[[1.0]])\n",
       "  )\n",
       ")"
      ]
     },
     "execution_count": 55,
     "metadata": {},
     "output_type": "execute_result"
    }
   ],
   "source": [
    "mpnn = models.MPNN(mp, agg, ffn, batch_norm, metric_list)\n",
    "mpnn"
   ]
  },
  {
   "cell_type": "markdown",
   "metadata": {},
   "source": [
    "# Training and testing"
   ]
  },
  {
   "cell_type": "markdown",
   "metadata": {},
   "source": [
    "## Set up trainer"
   ]
  },
  {
   "cell_type": "code",
   "execution_count": null,
   "metadata": {},
   "outputs": [
    {
     "name": "stderr",
     "output_type": "stream",
     "text": [
      "GPU available: True (cuda), used: True\n",
      "TPU available: False, using: 0 TPU cores\n",
      "HPU available: False, using: 0 HPUs\n"
     ]
    }
   ],
   "source": [
    "trainer = pl.Trainer(\n",
    "    logger=False,\n",
    "    enable_checkpointing=True,  # Use `True` if you want to save model checkpoints. The checkpoints will be saved in the `checkpoints` folder.\n",
    "    enable_progress_bar=True,\n",
    "    accelerator=\"auto\",\n",
    "    devices=1,\n",
    "    max_epochs=200,  # number of epochs to train for\n",
    ")"
   ]
  },
  {
   "cell_type": "markdown",
   "metadata": {},
   "source": [
    "## Start training"
   ]
  },
  {
   "cell_type": "code",
   "execution_count": null,
   "metadata": {},
   "outputs": [
    {
     "name": "stderr",
     "output_type": "stream",
     "text": [
      "/home/labhhc2/anaconda3/envs/chemprop/lib/python3.12/site-packages/lightning/pytorch/callbacks/model_checkpoint.py:654: Checkpoint directory /home/labhhc2/Documents/workspace/D20/Tam/backup/chemprop_1/examples/checkpoints exists and is not empty.\n",
      "LOCAL_RANK: 0 - CUDA_VISIBLE_DEVICES: [0]\n",
      "Loading `train_dataloader` to estimate number of stepping batches.\n",
      "/home/labhhc2/anaconda3/envs/chemprop/lib/python3.12/site-packages/lightning/pytorch/trainer/connectors/data_connector.py:424: The 'train_dataloader' does not have many workers which may be a bottleneck. Consider increasing the value of the `num_workers` argument` to `num_workers=23` in the `DataLoader` to improve performance.\n",
      "\n",
      "  | Name            | Type               | Params | Mode \n",
      "---------------------------------------------------------------\n",
      "0 | message_passing | BondMessagePassing | 195 K  | train\n",
      "1 | agg             | SumAggregation     | 0      | train\n",
      "2 | bn              | BatchNorm1d        | 600    | train\n",
      "3 | predictor       | RegressionFFN      | 90.6 K | train\n",
      "4 | X_d_transform   | Identity           | 0      | train\n",
      "5 | metrics         | ModuleList         | 0      | train\n",
      "---------------------------------------------------------------\n",
      "287 K     Trainable params\n",
      "0         Non-trainable params\n",
      "287 K     Total params\n",
      "1.148     Total estimated model params size (MB)\n",
      "25        Modules in train mode\n",
      "0         Modules in eval mode\n"
     ]
    },
    {
     "name": "stdout",
     "output_type": "stream",
     "text": [
      "                                                                            "
     ]
    },
    {
     "name": "stderr",
     "output_type": "stream",
     "text": [
      "/home/labhhc2/anaconda3/envs/chemprop/lib/python3.12/site-packages/lightning/pytorch/trainer/connectors/data_connector.py:424: The 'val_dataloader' does not have many workers which may be a bottleneck. Consider increasing the value of the `num_workers` argument` to `num_workers=23` in the `DataLoader` to improve performance.\n"
     ]
    },
    {
     "name": "stdout",
     "output_type": "stream",
     "text": [
      "Epoch 99: 100%|██████████| 66/66 [00:00<00:00, 125.23it/s, train_loss_step=0.0344, val_loss=0.0307, train_loss_epoch=0.0227] "
     ]
    },
    {
     "name": "stderr",
     "output_type": "stream",
     "text": [
      "`Trainer.fit` stopped: `max_epochs=100` reached.\n"
     ]
    },
    {
     "name": "stdout",
     "output_type": "stream",
     "text": [
      "Epoch 99: 100%|██████████| 66/66 [00:00<00:00, 79.21it/s, train_loss_step=0.0344, val_loss=0.0307, train_loss_epoch=0.0227] \n"
     ]
    }
   ],
   "source": [
    "trainer.fit(mpnn, train_loader, val_loader)"
   ]
  },
  {
   "cell_type": "markdown",
   "metadata": {},
   "source": [
    "## Test results"
   ]
  },
  {
   "cell_type": "code",
   "execution_count": null,
   "metadata": {},
   "outputs": [
    {
     "name": "stderr",
     "output_type": "stream",
     "text": [
      "LOCAL_RANK: 0 - CUDA_VISIBLE_DEVICES: [0]\n",
      "/home/labhhc2/anaconda3/envs/chemprop/lib/python3.12/site-packages/lightning/pytorch/trainer/connectors/data_connector.py:424: The 'test_dataloader' does not have many workers which may be a bottleneck. Consider increasing the value of the `num_workers` argument` to `num_workers=23` in the `DataLoader` to improve performance.\n"
     ]
    },
    {
     "name": "stdout",
     "output_type": "stream",
     "text": [
      "Testing DataLoader 0: 100%|██████████| 9/9 [00:00<00:00, 355.27it/s]\n"
     ]
    },
    {
     "data": {
      "text/html": [
       "<pre style=\"white-space:pre;overflow-x:auto;line-height:normal;font-family:Menlo,'DejaVu Sans Mono',consolas,'Courier New',monospace\">┏━━━━━━━━━━━━━━━━━━━━━━━━━━━┳━━━━━━━━━━━━━━━━━━━━━━━━━━━┓\n",
       "┃<span style=\"font-weight: bold\">        Test metric        </span>┃<span style=\"font-weight: bold\">       DataLoader 0        </span>┃\n",
       "┡━━━━━━━━━━━━━━━━━━━━━━━━━━━╇━━━━━━━━━━━━━━━━━━━━━━━━━━━┩\n",
       "│<span style=\"color: #008080; text-decoration-color: #008080\">         test/mae          </span>│<span style=\"color: #800080; text-decoration-color: #800080\">     2.753438711166382     </span>│\n",
       "│<span style=\"color: #008080; text-decoration-color: #008080\">         test/rmse         </span>│<span style=\"color: #800080; text-decoration-color: #800080\">    3.7457027435302734     </span>│\n",
       "└───────────────────────────┴───────────────────────────┘\n",
       "</pre>\n"
      ],
      "text/plain": [
       "┏━━━━━━━━━━━━━━━━━━━━━━━━━━━┳━━━━━━━━━━━━━━━━━━━━━━━━━━━┓\n",
       "┃\u001b[1m \u001b[0m\u001b[1m       Test metric       \u001b[0m\u001b[1m \u001b[0m┃\u001b[1m \u001b[0m\u001b[1m      DataLoader 0       \u001b[0m\u001b[1m \u001b[0m┃\n",
       "┡━━━━━━━━━━━━━━━━━━━━━━━━━━━╇━━━━━━━━━━━━━━━━━━━━━━━━━━━┩\n",
       "│\u001b[36m \u001b[0m\u001b[36m        test/mae         \u001b[0m\u001b[36m \u001b[0m│\u001b[35m \u001b[0m\u001b[35m    2.753438711166382    \u001b[0m\u001b[35m \u001b[0m│\n",
       "│\u001b[36m \u001b[0m\u001b[36m        test/rmse        \u001b[0m\u001b[36m \u001b[0m│\u001b[35m \u001b[0m\u001b[35m   3.7457027435302734    \u001b[0m\u001b[35m \u001b[0m│\n",
       "└───────────────────────────┴───────────────────────────┘\n"
      ]
     },
     "metadata": {},
     "output_type": "display_data"
    }
   ],
   "source": [
    "results = trainer.test(mpnn, test_loader)"
   ]
  },
  {
   "cell_type": "code",
   "execution_count": null,
   "metadata": {},
   "outputs": [
    {
     "data": {
      "text/plain": [
       "[{'test/rmse': 3.7457027435302734, 'test/mae': 2.753438711166382}]"
      ]
     },
     "execution_count": 59,
     "metadata": {},
     "output_type": "execute_result"
    }
   ],
   "source": [
    "results"
   ]
  },
  {
   "cell_type": "code",
   "execution_count": null,
   "metadata": {},
   "outputs": [],
   "source": []
  }
 ],
 "metadata": {
  "kernelspec": {
   "display_name": "chemprop",
   "language": "python",
   "name": "python3"
  },
  "language_info": {
   "codemirror_mode": {
    "name": "ipython",
    "version": 3
   },
   "file_extension": ".py",
   "mimetype": "text/x-python",
   "name": "python",
   "nbconvert_exporter": "python",
   "pygments_lexer": "ipython3",
   "version": "3.12.7"
  },
  "orig_nbformat": 4
 },
 "nbformat": 4,
 "nbformat_minor": 2
}
